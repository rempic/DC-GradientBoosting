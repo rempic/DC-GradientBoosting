{
 "cells": [
  {
   "cell_type": "code",
   "execution_count": 402,
   "metadata": {},
   "outputs": [],
   "source": [
    "%matplotlib inline\n",
    "\n",
    "import pandas as pd\n",
    "import matplotlib.pyplot as plt\n",
    "import plotly\n",
    "import numpy as np\n",
    "import seaborn as sns\n",
    "import calendar\n",
    "import pandasql as pdsql\n",
    "\n",
    "from sklearn.linear_model import LogisticRegression\n",
    "from sklearn.cross_validation import train_test_split\n",
    "from sklearn import metrics\n",
    "from sklearn.cross_validation import cross_val_score\n",
    "from datacleaner import autoclean\n",
    "\n",
    "from sklearn import metrics\n",
    "from sklearn import metrics\n",
    "from sklearn.ensemble import GradientBoostingClassifier\n",
    "from sklearn.metrics import classification_report\n",
    "import itertools"
   ]
  },
  {
   "cell_type": "markdown",
   "metadata": {},
   "source": [
    "# Logistic Regression"
   ]
  },
  {
   "cell_type": "markdown",
   "metadata": {},
   "source": [
    "This is an application of Logistic Regression for multiclassification of an unbalanced data set\n",
    "\n",
    "data sets: Insight_Train_DC.csv, Insight_Test_DC.csv'\n",
    "\n",
    "see Gradient Boosting (same folder) for an improvement"
   ]
  },
  {
   "cell_type": "markdown",
   "metadata": {},
   "source": [
    "### Functions"
   ]
  },
  {
   "cell_type": "code",
   "execution_count": 403,
   "metadata": {
    "collapsed": true
   },
   "outputs": [],
   "source": [
    "def plot_confusion_matrix(cm, classes,\n",
    "                          normalize=False,\n",
    "                          title='Confusion matrix',\n",
    "                          cmap=plt.cm.Blues):\n",
    "    \"\"\"\n",
    "    This function prints and plots the confusion matrix.\n",
    "    Normalization can be applied by setting `normalize=True`.\n",
    "    \"\"\"\n",
    "    plt.imshow(cm, interpolation='nearest', cmap=cmap)\n",
    "    plt.title(title)\n",
    "    plt.colorbar()\n",
    "    tick_marks = np.arange(len(classes))\n",
    "    plt.xticks(tick_marks, classes, rotation=45)\n",
    "    plt.yticks(tick_marks, classes)\n",
    "\n",
    "    if normalize:\n",
    "        cm = cm.astype('float') / cm.sum(axis=1)[:, np.newaxis]\n",
    "        print(\"Normalized confusion matrix\")\n",
    "    else:\n",
    "        print('Confusion matrix, without normalization')\n",
    "\n",
    "    print(cm)\n",
    "\n",
    "    thresh = cm.max() / 2.\n",
    "    for i, j in itertools.product(range(cm.shape[0]), range(cm.shape[1])):\n",
    "        plt.text(j, i, cm[i, j],\n",
    "                 horizontalalignment=\"center\",\n",
    "                 color=\"white\" if cm[i, j] > thresh else \"black\")\n",
    "\n",
    "    plt.tight_layout()\n",
    "    plt.ylabel('True label')\n",
    "    plt.xlabel('Predicted label')"
   ]
  },
  {
   "cell_type": "markdown",
   "metadata": {},
   "source": [
    "# data"
   ]
  },
  {
   "cell_type": "code",
   "execution_count": 399,
   "metadata": {},
   "outputs": [
    {
     "name": "stdout",
     "output_type": "stream",
     "text": [
      "32\n",
      "0\n"
     ]
    }
   ],
   "source": [
    "df_train=pd.read_csv('Insight_Train_DC.csv')\n",
    "df_train=pd.DataFrame(df_train)\n",
    "\n",
    "# add zero to the null values\n",
    "print(df_train.isnull().sum().sum())\n",
    "df_train[df_train.isnull()==True]=0\n",
    "print(df_train.isnull().sum().sum())"
   ]
  },
  {
   "cell_type": "markdown",
   "metadata": {},
   "source": [
    "#### Autoclean"
   ]
  },
  {
   "cell_type": "code",
   "execution_count": 6,
   "metadata": {
    "collapsed": true,
    "scrolled": true
   },
   "outputs": [],
   "source": [
    "#autoclean(input_dataframe, drop_nans=False, copy=False, ignore_update_check=False)\n",
    "#df_train2 = autoclean(df_train, copy=True )\n",
    "\n"
   ]
  },
  {
   "cell_type": "code",
   "execution_count": 401,
   "metadata": {},
   "outputs": [
    {
     "name": "stdout",
     "output_type": "stream",
     "text": [
      "number of observations/class\n"
     ]
    },
    {
     "data": {
      "text/plain": [
       "1.0    1408\n",
       "2.0     154\n",
       "3.0     137\n",
       "0.0       2\n",
       "Name: NSP, dtype: int64"
      ]
     },
     "execution_count": 401,
     "metadata": {},
     "output_type": "execute_result"
    }
   ],
   "source": [
    "print('non balanced: number of observations/class')\n",
    "df_train.NSP.value_counts()"
   ]
  },
  {
   "cell_type": "markdown",
   "metadata": {},
   "source": [
    " ## Plot"
   ]
  },
  {
   "cell_type": "code",
   "execution_count": 400,
   "metadata": {},
   "outputs": [
    {
     "data": {
      "text/plain": [
       "<matplotlib.axes._subplots.AxesSubplot at 0x120651f98>"
      ]
     },
     "execution_count": 400,
     "metadata": {},
     "output_type": "execute_result"
    },
    {
     "data": {
      "image/png": "[encoded data removed]",
      "text/plain": [
       "<matplotlib.figure.Figure at 0x11feca470>"
      ]
     },
     "metadata": {},
     "output_type": "display_data"
    },
    {
     "data": {
      "image/png": "[encoded data removed]",
      "text/plain": [
       "<matplotlib.figure.Figure at 0x11feca208>"
      ]
     },
     "metadata": {},
     "output_type": "display_data"
    },
    {
     "data": {
      "image/png": "[encoded data removed]",
      "text/plain": [
       "<matplotlib.figure.Figure at 0x12030fe10>"
      ]
     },
     "metadata": {},
     "output_type": "display_data"
    }
   ],
   "source": [
    "df_train[df_train.NSP==0].plot(kind='box')\n",
    "df_train[df_train.NSP==1].plot(kind='box')\n",
    "df_train[df_train.NSP==2].plot(kind='box')"
   ]
  },
  {
   "cell_type": "markdown",
   "metadata": {},
   "source": [
    "## Training"
   ]
  },
  {
   "cell_type": "code",
   "execution_count": 404,
   "metadata": {
    "collapsed": true
   },
   "outputs": [],
   "source": [
    "m = df_train.shape[0]\n",
    "n = df_train.shape[1] \n",
    "X = df_train.iloc[:,0:n-1]\n",
    "Y = df_train.iloc[:,n-1]\n",
    "\n",
    "Xtrain,Xtest, Ytrain,Ytest = train_test_split(X, Y, test_size = 0.3, random_state = 30)"
   ]
  },
  {
   "cell_type": "code",
   "execution_count": 405,
   "metadata": {
    "scrolled": true
   },
   "outputs": [
    {
     "name": "stdout",
     "output_type": "stream",
     "text": [
      "0.937377690802\n",
      "[  2.63111007e-05   9.99070665e-01   7.85334941e-04   1.17689130e-04]\n",
      "             precision    recall  f1-score   support\n",
      "\n",
      "          0       0.93      0.98      0.95       422\n",
      "          1       0.68      0.34      0.45        50\n",
      "          2       0.85      0.90      0.88        39\n",
      "\n",
      "avg / total       0.90      0.91      0.90       511\n",
      "\n",
      "Confusion matrix, without normalization\n",
      "[[412   5   5]\n",
      " [ 32  17   1]\n",
      " [  1   3  35]]\n"
     ]
    },
    {
     "data": {
      "image/png": "[encoded data removed]",
      "text/plain": [
       "<matplotlib.figure.Figure at 0x11d07ad68>"
      ]
     },
     "metadata": {},
     "output_type": "display_data"
    }
   ],
   "source": [
    "model = LogisticRegression()\n",
    "model = model.fit(Xtrain, Ytrain)\n",
    "Y_pred = model.predict(Xtest)\n",
    "\n",
    "\n",
    "print(model_gb.score(Xtest, Ytest))\n",
    "print(model_gb.predict_proba(Xtest)[0])\n",
    "print(classification_report(Ytest,Y_pred, target_names=['0','1','2','3']))\n",
    "\n",
    "cm = metrics.confusion_matrix(Ytest, Y_pred)\n",
    "plot_confusion_matrix(cm, ['0','1','2'])\n"
   ]
  },
  {
   "cell_type": "markdown",
   "metadata": {
    "collapsed": true
   },
   "source": [
    "## Testing "
   ]
  },
  {
   "cell_type": "code",
   "execution_count": 409,
   "metadata": {},
   "outputs": [
    {
     "name": "stdout",
     "output_type": "stream",
     "text": [
      "0.908665105386\n",
      "[  2.63111007e-05   9.99070665e-01   7.85334941e-04   1.17689130e-04]\n",
      "             precision    recall  f1-score   support\n",
      "\n",
      "          0       0.71      0.99      0.83       247\n",
      "          1       0.75      0.30      0.43       141\n",
      "          2       0.62      0.38      0.48        39\n",
      "\n",
      "avg / total       0.72      0.71      0.66       427\n",
      "\n",
      "Confusion matrix, without normalization\n",
      "[[245   0   2]\n",
      " [ 91  43   7]\n",
      " [ 10  14  15]]\n"
     ]
    },
    {
     "data": {
      "image/png": "[encoded data removed]",
      "text/plain": [
       "<matplotlib.figure.Figure at 0x121067470>"
      ]
     },
     "metadata": {},
     "output_type": "display_data"
    }
   ],
   "source": [
    "df_test=pd.read_csv('Insight_Test_DC.csv')\n",
    "df_test=pd.DataFrame(df_test)\n",
    "\n",
    "m = df_test.shape[0]\n",
    "n = df_test.shape[1]\n",
    "\n",
    "X = df_test.iloc[:,0:n-1]\n",
    "Y = df_test.iloc[:,n-1]\n",
    "\n",
    "Y_pred = model.predict(X)\n",
    "\n",
    "print(model_gb.score(X, Y))\n",
    "print(model_gb.predict_proba(Xtest)[0])\n",
    "print(classification_report(Y,Y_pred, target_names=['0','1','2','3']))\n",
    "\n",
    "cm = metrics.confusion_matrix(Y, Y_pred)\n",
    "plot_confusion_matrix(cm, ['0','1','2'])\n"
   ]
  },
  {
   "cell_type": "code",
   "execution_count": 407,
   "metadata": {},
   "outputs": [
    {
     "name": "stdout",
     "output_type": "stream",
     "text": [
      "             precision    recall  f1-score   support\n",
      "\n",
      "          0       0.71      0.99      0.83       247\n",
      "          1       0.75      0.30      0.43       141\n",
      "          2       0.62      0.38      0.48        39\n",
      "\n",
      "avg / total       0.72      0.71      0.66       427\n",
      "\n"
     ]
    }
   ],
   "source": [
    "print(classification_report(Y,Y_pred, target_names=['0','1','2','3']))\n",
    "\n"
   ]
  },
  {
   "cell_type": "markdown",
   "metadata": {},
   "source": [
    "## Feature importance"
   ]
  },
  {
   "cell_type": "code",
   "execution_count": 410,
   "metadata": {},
   "outputs": [
    {
     "data": {
      "image/png": "[encoded data removed]",
      "text/plain": [
       "<matplotlib.figure.Figure at 0x120a7b198>"
      ]
     },
     "metadata": {},
     "output_type": "display_data"
    }
   ],
   "source": [
    "feature_importance = model_gb.feature_importances_\n",
    "# make importances relative to max importance\n",
    "feature_importance = 100.0 * (feature_importance / feature_importance.max())\n",
    "sorted_idx = np.argsort(feature_importance)\n",
    "pos = np.arange(sorted_idx.shape[0]) + .5\n",
    "plt.figure(figsize=(15, 10))\n",
    "plt.subplot(1, 2, 2)\n",
    "plt.barh(pos, feature_importance[sorted_idx], align='center')\n",
    "plt.yticks(pos, X.columns[sorted_idx])\n",
    "plt.xlabel('Relative Importance')\n",
    "plt.title('Variable Importance')\n",
    "plt.show()"
   ]
  },
  {
   "cell_type": "code",
   "execution_count": null,
   "metadata": {
    "collapsed": true
   },
   "outputs": [],
   "source": []
  }
 ],
 "metadata": {
  "kernelspec": {
   "display_name": "Python 3",
   "language": "python",
   "name": "python3"
  },
  "language_info": {
   "codemirror_mode": {
    "name": "ipython",
    "version": 3
   },
   "file_extension": ".py",
   "mimetype": "text/x-python",
   "name": "python",
   "nbconvert_exporter": "python",
   "pygments_lexer": "ipython3",
   "version": "3.5.3"
  }
 },
 "nbformat": 4,
 "nbformat_minor": 2
}
